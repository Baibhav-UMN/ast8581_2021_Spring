{
 "cells": [
  {
   "cell_type": "markdown",
   "metadata": {},
   "source": [
    "# Gaussian Processes "
   ]
  },
  {
   "cell_type": "markdown",
   "metadata": {},
   "source": [
    "`conda install plotly`\n",
    "\n",
    "Consider a simple function\n",
    "\n"
   ]
  },
  {
   "cell_type": "code",
   "execution_count": 1,
   "metadata": {},
   "outputs": [],
   "source": [
    "import numpy as np\n",
    "import matplotlib.pyplot as plt\n",
    "import sklearn.metrics\n",
    "\n",
    "np.random.seed(2)\n",
    "def f(x):\n",
    "    \"\"\"The function to predict.\"\"\"\n",
    "    return x * np.sin(x)"
   ]
  },
  {
   "cell_type": "code",
   "execution_count": 2,
   "metadata": {},
   "outputs": [
    {
     "data": {
      "text/plain": [
       "<ErrorbarContainer object of 3 artists>"
      ]
     },
     "execution_count": 2,
     "metadata": {},
     "output_type": "execute_result"
    },
    {
     "data": {
      "image/png": "[encoded data removed]",
      "text/plain": [
       "<Figure size 432x288 with 1 Axes>"
      ]
     },
     "metadata": {
      "needs_background": "light"
     },
     "output_type": "display_data"
    }
   ],
   "source": [
    "xmax = 10\n",
    "X_space = np.linspace(0.001, xmax - 0.001, 1000)\n",
    "\n",
    "# Get the \"real\" value\n",
    "y_real = f(X_space)\n",
    "\n",
    "n = 10\n",
    "# Uniform sampling and add Gaussian noise\n",
    "x_sample = np.random.random(n)*10\n",
    "\n",
    "sigma = 1.0\n",
    "noise = np.random.normal(0, sigma, n)\n",
    "y_meas = f(x_sample) + noise\n",
    "\n",
    "plt.plot(X_space,y_real,\"r\")\n",
    "plt.errorbar(x_sample,y_meas,yerr=sigma,fmt=\"bo\")"
   ]
  },
  {
   "cell_type": "markdown",
   "metadata": {},
   "source": [
    "### Probabilistic interpretation\n",
    "Let our samples be $x_i, y_i$, $i \\in [0,n]$, then the probability of value $\\hat{y}_i$ at position $x_i$ given the noisy $y_i$ is:\n",
    "$$ Pr(Y_i = \\hat{y}_i | y_i) = \\mathcal{N}(\\hat{y}_i; y_i,\\sigma) = \\frac{1}{\\sqrt{2\\pi}\\sigma}exp\\left(\\frac{-(y_i - \\hat{y}_i)^2}{2\\sigma^2}\\right) $$\n",
    "\n",
    "If we assume that every sample is **independent** of the other (which are not!), then the probability becomes trivialy a **multivariate Gaussian distribution** with diagonal covariance\n",
    "$$ \\mathbf{Y} \\sim \\prod_i Pr(Y_i = \\hat{y}_i | y_i, \\sigma) = \\mathcal{N}(\\mathbf{\\hat{y}}; \\mathbf{y},\\sigma I)$$\n",
    "\n",
    "Following this idea, we model the $\\mathbf{Y}$ random vector as a Multivariate Gaussian Distribution\n",
    "\n",
    "$$\\mathcal{N}\\left( \\mathbf{\\hat{y}}; \\boldsymbol{\\mu},\\Sigma \\right) = \\frac{1}{\\sqrt{(2\\pi )^{k}|\\Sigma}|} exp\\left(-\\frac{1}{2}(\\boldsymbol{\\mu} - \\mathbf{\\hat{y}})^{\\mathrm{T}}\\Sigma^{-1}(\\boldsymbol{\\mu} - \\mathbf{\\hat{y}})\\right)$$\n",
    "\n",
    "where $\\Sigma_{ij}$ is a value that indicates how the sample $i$ varies w.r.t. $j$. \n",
    "\n",
    "If we interpret this model as an stochastic **process** (i.e., $x$ represent time) one would expect that samples that are closer to each other are more correlated than those that are far away, and that only depends on $x$, not $y$. One can define then a function $\\Sigma_{ij} = K(x_i,x_j)$, called **Kernel**, that defines this covariance."
   ]
  },
  {
   "cell_type": "markdown",
   "metadata": {},
   "source": [
    "## Gaussian Processes\n",
    "\n",
    "In the real world we just have the data and we want to predict a new value.\n"
   ]
  },
  {
   "cell_type": "code",
   "execution_count": 3,
   "metadata": {},
   "outputs": [
    {
     "data": {
      "image/png": "[encoded data removed]",
      "text/plain": [
       "<Figure size 432x288 with 1 Axes>"
      ]
     },
     "metadata": {
      "needs_background": "light"
     },
     "output_type": "display_data"
    }
   ],
   "source": [
    "sigma = 1.0\n",
    "y_p = 0.0\n",
    "x_p = 5.0\n",
    "plt.plot(x_sample,y_meas,\"bo\",label=\"$\\mathbf{y}$\")\n",
    "plt.errorbar(x_p,y_p,yerr=sigma,fmt=\"ro\",label=\"$\\hat{y}$\",alpha=0.5)\n",
    "plt.legend()\n",
    "plt.xlim(0,10)\n",
    "ylim=plt.ylim()"
   ]
  },
  {
   "cell_type": "markdown",
   "metadata": {},
   "source": [
    "We model the random vector (a priori) as $$\\begin{bmatrix}\\hat{Y} \\\\ \\mathbf{Y} \\end{bmatrix} \\sim Pr\\left(\\begin{bmatrix}\\hat{Y} \\\\ \\mathbf{Y} \\end{bmatrix} = \\begin{bmatrix}\\hat{y} \\\\ \\mathbf{y} \\end{bmatrix}\\right) = \\mathcal{N}\\left(\\begin{bmatrix}0 \\\\ \\mathbf{0} \\end{bmatrix}, \\begin{bmatrix} K(\\hat{x},\\hat{x}) & K(\\hat{x},\\mathbf{x}) \\\\ K(\\mathbf{x},\\hat{x}) & K(\\mathbf{x},\\mathbf{x}) \\end{bmatrix}\\right) = \\mathcal{N}\\left(\\begin{bmatrix}0 \\\\ \\mathbf{0} \\end{bmatrix}, \\begin{bmatrix} a & \\mathbf{b}^T \\\\  \\mathbf{b} & C \\end{bmatrix}\\right) $$"
   ]
  },
  {
   "cell_type": "code",
   "execution_count": 4,
   "metadata": {},
   "outputs": [
    {
     "data": {
      "text/plain": [
       "(-5.570975251039949, 2.7362768371568604)"
      ]
     },
     "execution_count": 4,
     "metadata": {},
     "output_type": "execute_result"
    },
    {
     "data": {
      "image/png": "[encoded data removed]",
      "text/plain": [
       "<Figure size 432x288 with 1 Axes>"
      ]
     },
     "metadata": {
      "needs_background": "light"
     },
     "output_type": "display_data"
    }
   ],
   "source": [
    "plt.errorbar(x_sample,np.zeros((n,1)),fmt=\"bo\",label=\"$\\mathbf{y}$\",yerr=sigma)\n",
    "plt.errorbar(x_p,0,yerr=sigma,fmt=\"ro\",label=\"$\\hat{y}$\")\n",
    "plt.legend()\n",
    "plt.xlim(0,10)\n",
    "plt.ylim(ylim)"
   ]
  },
  {
   "cell_type": "markdown",
   "metadata": {},
   "source": [
    "### Exponential Quadratic Kernel\n",
    "We define a Kernel function:\n",
    "\n",
    "$$ \\Sigma_{ij} = K(x_j,x_i) = \\sigma^2 exp\\left(-\\frac{(x_j - x_i)^2}{2\\mathcal{l}^2} \\right)$$"
   ]
  },
  {
   "cell_type": "code",
   "execution_count": 5,
   "metadata": {},
   "outputs": [
    {
     "data": {
      "text/plain": [
       "array([5.        , 4.35994902, 0.25926232, 5.49662478, 4.35322393,\n",
       "       4.20367802, 3.30334821, 2.04648634, 6.19270966, 2.99654674,\n",
       "       2.66827275])"
      ]
     },
     "execution_count": 5,
     "metadata": {},
     "output_type": "execute_result"
    }
   ],
   "source": [
    "x_comb = np.append(x_p,x_sample)\n",
    "x_comb"
   ]
  },
  {
   "cell_type": "code",
   "execution_count": 6,
   "metadata": {},
   "outputs": [
    {
     "data": {
      "text/plain": [
       "<matplotlib.colorbar.Colorbar at 0x1a18cc28d0>"
      ]
     },
     "execution_count": 6,
     "metadata": {},
     "output_type": "execute_result"
    },
    {
     "data": {
      "image/png": "[encoded data removed]",
      "text/plain": [
       "<Figure size 432x288 with 2 Axes>"
      ]
     },
     "metadata": {
      "needs_background": "light"
     },
     "output_type": "display_data"
    }
   ],
   "source": [
    "l = 1.0\n",
    "X = np.atleast_2d(x_comb).T\n",
    "M=sklearn.metrics.pairwise_distances(X,X)\n",
    "S=sigma*sigma*np.exp(M*M/(-2*l*l))\n",
    "plt.imshow(S)\n",
    "plt.colorbar()"
   ]
  },
  {
   "cell_type": "markdown",
   "metadata": {},
   "source": [
    "What we want to do is to do is to **update** this model with our data:\n",
    "\n",
    "$$\\hat{y} \\sim Pr(\\hat{Y}=\\hat{y}| \\mathbf{Y} = \\mathbf{y}) = \\mathcal{N}\\left(\\hat{y};\\mathbf{b}^T C^{-1} \\mathbf{y},  a - \\mathbf{b}^T C^{-1} \\mathbf{b} \\right)$$"
   ]
  },
  {
   "cell_type": "code",
   "execution_count": 7,
   "metadata": {},
   "outputs": [
    {
     "data": {
      "text/plain": [
       "[<matplotlib.lines.Line2D at 0x1a18e9cf98>]"
      ]
     },
     "execution_count": 7,
     "metadata": {},
     "output_type": "execute_result"
    },
    {
     "data": {
      "image/png": "[encoded data removed]",
      "text/plain": [
       "<Figure size 432x288 with 1 Axes>"
      ]
     },
     "metadata": {
      "needs_background": "light"
     },
     "output_type": "display_data"
    }
   ],
   "source": [
    "a = S[0,0]\n",
    "b = S[0,1:]\n",
    "C = S[1:,1:]\n",
    "Cinv = np.linalg.inv(C)\n",
    "mu_p = b.dot(Cinv).dot(y_meas)\n",
    "sig_p = a - b.dot(Cinv).dot(b)\n",
    "plt.plot(x_sample,y_meas,\"bo\",label=\"$\\mathbf{y}$\")\n",
    "plt.errorbar(x_p,mu_p,yerr=sig_p,fmt=\"ro\",label=\"$\\hat{y}$\")\n",
    "plt.legend()\n",
    "plt.xlim(0,10)\n",
    "ylim=plt.ylim()\n",
    "plt.plot(X_space,y_real,\"r--\",alpha=0.5)"
   ]
  },
  {
   "cell_type": "code",
   "execution_count": 8,
   "metadata": {},
   "outputs": [
    {
     "data": {
      "text/plain": [
       "<matplotlib.colorbar.Colorbar at 0x1a18e27208>"
      ]
     },
     "execution_count": 8,
     "metadata": {},
     "output_type": "execute_result"
    },
    {
     "data": {
      "image/png": "[encoded data removed]",
      "text/plain": [
       "<Figure size 432x288 with 2 Axes>"
      ]
     },
     "metadata": {
      "needs_background": "light"
     },
     "output_type": "display_data"
    }
   ],
   "source": [
    "plt.imshow(Cinv)\n",
    "plt.colorbar()"
   ]
  },
  {
   "cell_type": "code",
   "execution_count": 9,
   "metadata": {},
   "outputs": [
    {
     "data": {
      "text/plain": [
       "[<matplotlib.lines.Line2D at 0x106babf98>]"
      ]
     },
     "execution_count": 9,
     "metadata": {},
     "output_type": "execute_result"
    },
    {
     "data": {
      "image/png": "[encoded data removed]",
      "text/plain": [
       "<Figure size 432x288 with 1 Axes>"
      ]
     },
     "metadata": {
      "needs_background": "light"
     },
     "output_type": "display_data"
    }
   ],
   "source": [
    "lamb = 0.01\n",
    "Cinv = np.linalg.inv(C + lamb*np.eye(C.shape[0],C.shape[1]))\n",
    "mu_p = b.dot(Cinv).dot(y_meas)\n",
    "sig_p = a - b.dot(Cinv).dot(b)\n",
    "plt.plot(x_sample,y_meas,\"bo\",label=\"$\\mathbf{y}$\")\n",
    "plt.errorbar(x_p,mu_p,yerr=sig_p,fmt=\"ro\",label=\"$\\hat{y}$\")\n",
    "plt.legend()\n",
    "plt.xlim(0,10)\n",
    "ylim=plt.ylim()\n",
    "plt.plot(X_space,y_real,\"r--\",alpha=0.5)"
   ]
  },
  {
   "cell_type": "code",
   "execution_count": 10,
   "metadata": {},
   "outputs": [
    {
     "data": {
      "text/plain": [
       "<matplotlib.colorbar.Colorbar at 0x1a19468748>"
      ]
     },
     "execution_count": 10,
     "metadata": {},
     "output_type": "execute_result"
    },
    {
     "data": {
      "image/png": "[encoded data removed]",
      "text/plain": [
       "<Figure size 432x288 with 2 Axes>"
      ]
     },
     "metadata": {
      "needs_background": "light"
     },
     "output_type": "display_data"
    }
   ],
   "source": [
    "plt.imshow(Cinv)\n",
    "plt.colorbar()"
   ]
  },
  {
   "cell_type": "code",
   "execution_count": null,
   "metadata": {},
   "outputs": [],
   "source": []
  },
  {
   "cell_type": "markdown",
   "metadata": {},
   "source": [
    "Now consider that we want to do the same but for a vector of $\\mathbf{\\hat{y}}$ values for the $\\mathbf{\\hat{x}}$ points.\n",
    "\n",
    "$$\\begin{bmatrix}\\mathbf{\\hat{Y}} \\\\ \\mathbf{Y} \\end{bmatrix} \\sim Pr\\left(\\begin{bmatrix}\\mathbf{\\hat{Y}} \\\\ \\mathbf{Y} \\end{bmatrix} = \\begin{bmatrix}\\mathbf{\\hat{y}} \\\\ \\mathbf{y} \\end{bmatrix}\\right) = \\mathcal{N}\\left(\\begin{bmatrix}\\mathbf{0} \\\\ \\mathbf{0} \\end{bmatrix}, \\begin{bmatrix} K(\\mathbf{\\hat{x}},\\mathbf{\\hat{x}}) & K(\\mathbf{\\hat{x}},\\mathbf{x}) \\\\ K(\\mathbf{x},\\mathbf{\\hat{x}}) & K(\\mathbf{x},\\mathbf{x}) + \\lambda I \\end{bmatrix}\\right) = \\mathcal{N}\\left(\\begin{bmatrix}\\mathbf{0} \\\\ \\mathbf{0} \\end{bmatrix}, \\begin{bmatrix} A & B^T \\\\  B & C \\end{bmatrix}\\right) $$\n",
    "\n",
    "Now\n",
    "$$\\mathbf{\\hat{y}} \\sim Pr(\\mathbf{\\hat{Y}}=\\mathbf{\\hat{y}}| \\mathbf{Y} = \\mathbf{y}) = \\mathcal{N}\\left(\\mathbf{\\hat{y}} ; B^T C^{-1} \\mathbf{y},  A - B^T C^{-1} B \\right)$$\n",
    "\n",
    "\n"
   ]
  },
  {
   "cell_type": "code",
   "execution_count": 11,
   "metadata": {},
   "outputs": [],
   "source": [
    "X = np.atleast_2d(x_sample).T"
   ]
  },
  {
   "cell_type": "code",
   "execution_count": 12,
   "metadata": {},
   "outputs": [],
   "source": [
    "from ipywidgets import interact\n",
    "X_space = np.linspace(0.1, 9.9, 1000)\n",
    "X_space = np.atleast_2d(X_space).T\n",
    "\n",
    "def gen_data(n = 10,sigma =1.0):\n",
    "    # Get the \"real\" value\n",
    "    x_sample = np.random.random(n)*10\n",
    "    noise = np.random.normal(0, sigma, n)\n",
    "    y_meas = f(x_sample) + noise\n",
    "    X = np.atleast_2d(x_sample).T\n",
    "    return(X,y_meas)\n",
    "\n",
    "def predict_GMM_plot(lamb=0.1,sigma=1.0,l=1.0,bars=False,instances=False):\n",
    "    dA=sklearn.metrics.pairwise_distances(X_space,X_space)\n",
    "    dB=sklearn.metrics.pairwise_distances(X,X_space)\n",
    "    dC=sklearn.metrics.pairwise_distances(X,X)\n",
    "    A=sigma*sigma*np.exp(dA*dA/(-2*l*l))\n",
    "    B=sigma*sigma*np.exp(dB*dB/(-2*l*l))\n",
    "    C=sigma*sigma*np.exp(dC*dC/(-2*l*l))\n",
    "    sI = lamb*np.eye(C.shape[0],C.shape[1])\n",
    "    Cinv = np.linalg.inv(C + sI)\n",
    "    mu_p = B.T.dot(Cinv).dot(y_meas)\n",
    "    cov_p = A - B.T.dot(Cinv).dot(B)\n",
    "    plt.plot(X,y_meas,\"bo\",label=\"$\\mathbf{y}$\")\n",
    "    if bars:\n",
    "        plt.errorbar(X_space,mu_p,yerr=1.96*np.diag(cov_p),fmt=\"r\",label=\"$\\mathbf{\\hat{y}}$\",alpha=0.2)\n",
    "    else:\n",
    "        plt.plot(X_space,mu_p,\"r\",label=\"$\\mathbf{\\hat{y}}$\",alpha=0.8)\n",
    "    plt.plot(X_space,y_real,\"k--\",alpha=0.5,label=\"f(x)\")\n",
    "    if instances:\n",
    "        #L=np.linalg.cholesky(cov_p)\n",
    "        for i in range(10):\n",
    "            inst=np.random.multivariate_normal(mu_p, cov_p)\n",
    "            #z = np.random.normal(0, 1.0, mu_p.length)\n",
    "            #inst = mu_p + L.dot(z)\n",
    "            plt.plot(X_space,inst,alpha=0.5)\n",
    "    \n",
    "    plt.legend()\n",
    "    plt.xlim(0,max(X_space))\n",
    "    ylim=plt.ylim() \n",
    "    \n"
   ]
  },
  {
   "cell_type": "code",
   "execution_count": 13,
   "metadata": {},
   "outputs": [
    {
     "data": {
      "application/vnd.jupyter.widget-view+json": {
       "model_id": "1a7f68ab93ea46f78b52449b1b0f94dd",
       "version_major": 2,
       "version_minor": 0
      },
      "text/plain": [
       "interactive(children=(FloatSlider(value=0.1, description='lamb', max=1.0, step=0.01), FloatSlider(value=1.0, d…"
      ]
     },
     "metadata": {},
     "output_type": "display_data"
    },
    {
     "data": {
      "text/plain": [
       "<function __main__.predict_GMM_plot(lamb=0.1, sigma=1.0, l=1.0, bars=False, instances=False)>"
      ]
     },
     "execution_count": 13,
     "metadata": {},
     "output_type": "execute_result"
    }
   ],
   "source": [
    "interact(predict_GMM_plot,lamb=(0.0,1.0,0.01),sigma=(0.1,2.0,0.1),l=(0.1,5.0,0.1))"
   ]
  },
  {
   "cell_type": "code",
   "execution_count": 14,
   "metadata": {},
   "outputs": [
    {
     "data": {
      "application/vnd.jupyter.widget-view+json": {
       "model_id": "453b87e64d60493ba4be1abecf7c3a69",
       "version_major": 2,
       "version_minor": 0
      },
      "text/plain": [
       "interactive(children=(FloatSlider(value=0.1, description='lamb', max=1.0, step=0.01), FloatSlider(value=1.0, d…"
      ]
     },
     "metadata": {},
     "output_type": "display_data"
    },
    {
     "data": {
      "text/plain": [
       "<function __main__.predict_GMM_plot(lamb=0.1, sigma=1.0, l=1.0, bars=False, instances=False)>"
      ]
     },
     "execution_count": 14,
     "metadata": {},
     "output_type": "execute_result"
    }
   ],
   "source": [
    "X,y_meas = gen_data(n=25,sigma=1.0)\n",
    "interact(predict_GMM_plot,lamb=(0.0,1.0,0.01),sigma=(0.1,4.0,0.1))"
   ]
  },
  {
   "cell_type": "code",
   "execution_count": 15,
   "metadata": {},
   "outputs": [
    {
     "data": {
      "application/vnd.jupyter.widget-view+json": {
       "model_id": "a877ab634c894b3d9244e05588d8ae48",
       "version_major": 2,
       "version_minor": 0
      },
      "text/plain": [
       "interactive(children=(FloatSlider(value=0.1, description='lamb', max=1.0, step=0.01), FloatSlider(value=1.0, d…"
      ]
     },
     "metadata": {},
     "output_type": "display_data"
    },
    {
     "data": {
      "text/plain": [
       "<function __main__.predict_GMM_plot(lamb=0.1, sigma=1.0, l=1.0, bars=False, instances=False)>"
      ]
     },
     "execution_count": 15,
     "metadata": {},
     "output_type": "execute_result"
    }
   ],
   "source": [
    "X_space = np.linspace(0.1, 30.0, 1000)\n",
    "X_space = np.atleast_2d(X_space).T\n",
    "y_real = f(X_space)\n",
    "X,y_meas = gen_data(n=25,sigma=1.0)\n",
    "interact(predict_GMM_plot,lamb=(0.0,1.0,0.01),sigma=(1,40.0,1),l=(0.1,4.0,0.1))"
   ]
  },
  {
   "cell_type": "markdown",
   "metadata": {},
   "source": [
    "## Periodic Kernel\n",
    "\n",
    "$K(x,x') = \\sigma^2 exp\\left(−\\frac{2 sin^2\\left(\\frac{\\pi(x− x′)}{p}\\right)}{l^2}\\right)$\n"
   ]
  },
  {
   "cell_type": "code",
   "execution_count": 16,
   "metadata": {},
   "outputs": [],
   "source": [
    "def predict_GMMper_plot(lamb=0.1,sigma=1.0,l=1.0,p=10.0,bars=False,instances=False):\n",
    "    dA=sklearn.metrics.pairwise_distances(X_space,X_space)\n",
    "    dB=sklearn.metrics.pairwise_distances(X,X_space)\n",
    "    dC=sklearn.metrics.pairwise_distances(X,X)\n",
    "    sA=np.sin(np.pi*dA/p)\n",
    "    sB=np.sin(np.pi*dB/p)\n",
    "    sC=np.sin(np.pi*dC/p)\n",
    "    A=sigma*sigma*np.exp(2*sA*sA/(-l*l))\n",
    "    B=sigma*sigma*np.exp(2*sB*sB/(-l*l))\n",
    "    C=sigma*sigma*np.exp(2*sC*sC/(-l*l))\n",
    "    sI = lamb*np.eye(C.shape[0],C.shape[1])\n",
    "    Cinv = np.linalg.inv(C + sI)\n",
    "    mu_p = B.T.dot(Cinv).dot(y_meas)\n",
    "    cov_p = A - B.T.dot(Cinv).dot(B)\n",
    "    plt.plot(X,y_meas,\"bo\",label=\"$\\mathbf{y}$\")\n",
    "    if bars:\n",
    "        plt.errorbar(X_space,mu_p,yerr=1.96*np.diag(cov_p),fmt=\"r\",label=\"$\\mathbf{\\hat{y}}$\",alpha=0.2)\n",
    "    else:\n",
    "        plt.plot(X_space,mu_p,\"r\",label=\"$\\mathbf{\\hat{y}}$\",alpha=0.8)\n",
    "    plt.plot(X_space,y_real,\"k--\",alpha=0.5,label=\"f(x)\")\n",
    "    if instances:\n",
    "        #L=np.linalg.cholesky(cov_p)\n",
    "        for i in range(10):\n",
    "            inst=np.random.multivariate_normal(mu_p, cov_p)\n",
    "            #z = np.random.normal(0, 1.0, mu_p.length)\n",
    "            #inst = mu_p + L.dot(z)\n",
    "            plt.plot(X_space,inst,alpha=0.5)\n",
    "    \n",
    "    plt.legend()\n",
    "    plt.xlim(0,max(X_space))\n",
    "    ylim=plt.ylim() \n",
    "    "
   ]
  },
  {
   "cell_type": "code",
   "execution_count": 17,
   "metadata": {},
   "outputs": [
    {
     "data": {
      "application/vnd.jupyter.widget-view+json": {
       "model_id": "9fb60daeb9fc4572b007aab12f1b8237",
       "version_major": 2,
       "version_minor": 0
      },
      "text/plain": [
       "interactive(children=(FloatSlider(value=0.1, description='lamb', max=1.0, step=0.01), FloatSlider(value=1.0, d…"
      ]
     },
     "metadata": {},
     "output_type": "display_data"
    },
    {
     "data": {
      "text/plain": [
       "<function __main__.predict_GMMper_plot(lamb=0.1, sigma=1.0, l=1.0, p=10.0, bars=False, instances=False)>"
      ]
     },
     "execution_count": 17,
     "metadata": {},
     "output_type": "execute_result"
    }
   ],
   "source": [
    "interact(predict_GMMper_plot,lamb=(0.0,1.0,0.01),sigma=(1,40.0,1),l=(0.1,4.0,0.1),p=(0.1,30.0,0.1))"
   ]
  },
  {
   "cell_type": "markdown",
   "metadata": {},
   "source": [
    "## Periodic Kernel + Exponential Quadratic\n",
    "\n",
    "$K(x,x') = \\sigma^2 exp\\left(−\\frac{2 sin^2\\left(\\frac{\\pi(x− x′)}{p}\\right)}{l^2}\\right) \\sigma^2 exp\\left(-\\frac{(x_j - x_i)^2}{2\\mathcal{l}^2} \\right) $"
   ]
  },
  {
   "cell_type": "code",
   "execution_count": null,
   "metadata": {},
   "outputs": [],
   "source": [
    "def predict_GMMcomb_plot(lamb=0.1,sigma=1.0,l=1.0,p=10.0,bars=False,instances=False):\n",
    "    dA=sklearn.metrics.pairwise_distances(X_space,X_space)\n",
    "    dB=sklearn.metrics.pairwise_distances(X,X_space)\n",
    "    dC=sklearn.metrics.pairwise_distances(X,X)\n",
    "    sA=np.sin(np.pi*dA/p)\n",
    "    sB=np.sin(np.pi*dB/p)\n",
    "    sC=np.sin(np.pi*dC/p)\n",
    "    A=sigma*sigma*np.exp(2*sA*sA/(-l*l))*np.exp(dA*dA/(-2*l*l))\n",
    "    B=sigma*sigma*np.exp(2*sB*sB/(-l*l))*np.exp(dB*dB/(-2*l*l))\n",
    "    C=sigma*sigma*np.exp(2*sC*sC/(-l*l))*np.exp(dC*dC/(-2*l*l))\n",
    "    sI = lamb*np.eye(C.shape[0],C.shape[1])\n",
    "    Cinv = np.linalg.inv(C + sI)\n",
    "    mu_p = B.T.dot(Cinv).dot(y_meas)\n",
    "    cov_p = A - B.T.dot(Cinv).dot(B)\n",
    "    plt.plot(X,y_meas,\"bo\",label=\"$\\mathbf{y}$\")\n",
    "    if bars:\n",
    "        plt.errorbar(X_space,mu_p,yerr=1.96*np.diag(cov_p),fmt=\"r\",label=\"$\\mathbf{\\hat{y}}$\",alpha=0.2)\n",
    "    else:\n",
    "        plt.plot(X_space,mu_p,\"r\",label=\"$\\mathbf{\\hat{y}}$\",alpha=0.8)\n",
    "    plt.plot(X_space,y_real,\"k--\",alpha=0.5,label=\"f(x)\")\n",
    "    if instances:\n",
    "        #L=np.linalg.cholesky(cov_p)\n",
    "        for i in range(10):\n",
    "            inst=np.random.multivariate_normal(mu_p, cov_p)\n",
    "            #z = np.random.normal(0, 1.0, mu_p.length)\n",
    "            #inst = mu_p + L.dot(z)\n",
    "            plt.plot(X_space,inst,alpha=0.5)\n",
    "    \n",
    "    plt.legend()\n",
    "    plt.xlim(0,max(X_space))\n",
    "    ylim=plt.ylim() \n",
    "    "
   ]
  },
  {
   "cell_type": "code",
   "execution_count": null,
   "metadata": {},
   "outputs": [],
   "source": [
    "interact(predict_GMMcomb_plot,lamb=(0.0,1.0,0.01),sigma=(1,40.0,1),l=(0.1,4.0,0.1),p=(0.1,30.0,0.1))"
   ]
  },
  {
   "cell_type": "code",
   "execution_count": null,
   "metadata": {},
   "outputs": [],
   "source": []
  }
 ],
 "metadata": {
  "kernelspec": {
   "display_name": "Python 3",
   "language": "python",
   "name": "python3"
  },
  "language_info": {
   "codemirror_mode": {
    "name": "ipython",
    "version": 3
   },
   "file_extension": ".py",
   "mimetype": "text/x-python",
   "name": "python",
   "nbconvert_exporter": "python",
   "pygments_lexer": "ipython3",
   "version": "3.7.3"
  }
 },
 "nbformat": 4,
 "nbformat_minor": 2
}
