{
 "cells": [
  {
   "cell_type": "markdown",
   "metadata": {},
   "source": [
    "# Probablity distributions"
   ]
  },
  {
   "cell_type": "code",
   "execution_count": 70,
   "metadata": {},
   "outputs": [],
   "source": [
    "import numpy as np \n",
    "import matplotlib\n",
    "matplotlib.rcParams['figure.figsize'] = (10,6)\n",
    "import matplotlib.pyplot as plt"
   ]
  },
  {
   "cell_type": "markdown",
   "metadata": {},
   "source": [
    "### Contents of this notebook\n",
    "\n",
    "Contributed by: Sharan Banagiri\n",
    "\n",
    "Text and Exercises borrowed from: https://www.dataquest.io/blog/basic-statistics-in-python-probability/\n",
    "\n",
    "* Some useful probability distributions\n",
    "\n",
    "    * Univariate Gaussian\n",
    "    * Multivariate Gaussian\n",
    "    * Poisson\n",
    "    * $\\chi$^2 distribution\n",
    "    * Binomial\n",
    "\n",
    "    \n",
    "* Central limit theorem"
   ]
  },
  {
   "cell_type": "markdown",
   "metadata": {},
   "source": [
    "### Discrete Distributions - Warm Up\n",
    "\n",
    "To calculate the chance of an event happening, we also need to consider all the other events that can occur. The quintessential representation of probability is the humble coin toss. In a coin toss the only events that can happen are:\n",
    "\n",
    "   * Flipping a heads\n",
    "   * Flipping a tails\n",
    "\n",
    "These two events form the sample space, the set of all possible events that can happen. To calculate the probability of an event occurring, we count how many times are event of interest can occur (say flipping heads) and dividing it by the sample space. Thus, probability will tell us that an ideal coin will have a 1-in-2 chance of being heads or tails. By looking at the events that can occur, probability gives us a framework for making predictions about how often events will happen. However, even though it seems obvious, if we actually try to toss some coins, we’re likely to get an abnormally high or low counts of heads every once in a while. If we don’t want to make the assumption that the coin is fair, what can we do? We can gather data! We can use statistics to calculate probabilities based on observations from the real world and check how it compares to the ideal."
   ]
  },
  {
   "cell_type": "code",
   "execution_count": 4,
   "metadata": {},
   "outputs": [
    {
     "data": {
      "text/plain": [
       "49.895"
      ]
     },
     "execution_count": 4,
     "metadata": {},
     "output_type": "execute_result"
    }
   ],
   "source": [
    "import random\n",
    "\n",
    "def coin_trial():\n",
    "    heads = 0\n",
    "    for i in range(100):\n",
    "        if random.random() <= 0.5:\n",
    "            heads +=1\n",
    "    return heads\n",
    "\n",
    "def simulate(n):\n",
    "    trials = []\n",
    "    for i in range(n):\n",
    "        trials.append(coin_trial())\n",
    "    return(sum(trials)/n)\n",
    "\n",
    "simulate(1000)"
   ]
  },
  {
   "cell_type": "markdown",
   "metadata": {},
   "source": [
    "The data confirm that our average number of heads does approach what probability suggests it should be. Furthermore, this average improves with more trials. In 10 trials, there’s some slight error, but this error almost disappears entirely with 1,000,000 trials. As we get more trials, the deviation away from the average decreases. Sound familiar? Sure, we could have flipped the coin ourselves, but Python saves us a lot of time by allowing us to model this process in code. As we get more and more data, the real-world starts to resemble the ideal.\n",
    "\n"
   ]
  },
  {
   "cell_type": "markdown",
   "metadata": {},
   "source": [
    "### Discrete Distributions - Exercise\n",
    "\n",
    "A box contains 10 white balls, 20 reds and 30 greens. Draw 5 balls with replacement… what is the probability that\n",
    "   * 3 white or 2 red\n",
    "   * All 5 are the same color"
   ]
  },
  {
   "cell_type": "code",
   "execution_count": 6,
   "metadata": {},
   "outputs": [
    {
     "name": "stdout",
     "output_type": "stream",
     "text": [
      "0\n",
      "1\n",
      "2\n",
      "3\n",
      "4\n",
      "5\n",
      "6\n",
      "7\n",
      "8\n",
      "9\n",
      "10\n",
      "11\n",
      "12\n",
      "13\n",
      "14\n",
      "15\n",
      "16\n",
      "17\n",
      "18\n",
      "19\n",
      "20\n",
      "21\n",
      "22\n",
      "23\n",
      "24\n",
      "25\n",
      "26\n",
      "27\n",
      "28\n",
      "29\n",
      "30\n",
      "31\n",
      "32\n",
      "33\n",
      "34\n",
      "35\n",
      "36\n",
      "37\n",
      "38\n",
      "39\n",
      "40\n",
      "41\n",
      "42\n",
      "43\n",
      "44\n",
      "45\n",
      "46\n",
      "47\n",
      "48\n",
      "49\n",
      "50\n",
      "51\n",
      "52\n",
      "53\n",
      "54\n",
      "55\n",
      "56\n",
      "57\n",
      "58\n",
      "59\n",
      "60\n",
      "61\n",
      "62\n",
      "63\n",
      "64\n",
      "65\n",
      "66\n",
      "67\n",
      "68\n",
      "69\n",
      "70\n",
      "71\n",
      "72\n",
      "73\n",
      "74\n",
      "75\n",
      "76\n",
      "77\n",
      "78\n",
      "79\n",
      "80\n",
      "81\n",
      "82\n",
      "83\n",
      "84\n",
      "85\n",
      "86\n",
      "87\n",
      "88\n",
      "89\n",
      "90\n",
      "91\n",
      "92\n",
      "93\n",
      "94\n",
      "95\n",
      "96\n",
      "97\n",
      "98\n",
      "99\n"
     ]
    }
   ],
   "source": [
    "# your code here...\n",
    "import numpy as np\n",
    "n_simulations = 100\n",
    "for i in range(n_simulations):\n",
    "    print(i)"
   ]
  },
  {
   "cell_type": "markdown",
   "metadata": {},
   "source": [
    "### Univariate Gaussian\n",
    "\n",
    "The first distribution of interest is the **Gaussian** or the **Normal** distribution. We will come across the Gaussian distribution often, especially because of the central limit theorem. Lets start with the Univariate Gaussian. If a random variable x is distributed as a Gaussian, its probability distribution function is \n",
    "\n",
    "$$ p(x) = \\frac{1}{\\sqrt{2 \\pi \\sigma^2}} \\, \\exp \\left (- \\frac{1}{2} \\frac{(x - \\mu)^2}{\\sigma^2} \\right) $$\n",
    "\n",
    "We just have two moments to worry about this the mean and the variance. All other higher moments turn out to be zero\n",
    "\n",
    "$$E(x) = \\mu$$\n",
    "$$E((x - E(x))^2) = \\sigma^2$$\n",
    "\n"
   ]
  },
  {
   "cell_type": "markdown",
   "metadata": {},
   "source": [
    "To generate random data from those distributions, we will use the numpy random generator with a seed for reproducibility.   "
   ]
  },
  {
   "cell_type": "code",
   "execution_count": 47,
   "metadata": {},
   "outputs": [],
   "source": [
    "from numpy.random import default_rng\n",
    "rg = default_rng(121)\n"
   ]
  },
  {
   "cell_type": "markdown",
   "metadata": {},
   "source": [
    "Lets draw 200 samples from this a unit Gaussian with $\\mu = 0, \\sigma^2 = 1$. The law of large numbers allows us to estimate the mean and the variance of the Gaussian using the mean and the variance of the samples. Usually when doing data analysis we can only get samples from a probability distribution that we want to study, and the law of large numbers allows us to study the distribution using the samples.  "
   ]
  },
  {
   "cell_type": "code",
   "execution_count": 48,
   "metadata": {},
   "outputs": [
    {
     "name": "stdout",
     "output_type": "stream",
     "text": [
      "The estimate of the mean from the samples is -0.04342800207180963\n",
      "The estimate of the variance from the samples is 1.0146530995252203\n"
     ]
    }
   ],
   "source": [
    "N = 1000\n",
    "\n",
    "# Draw samples from a random number generator with a fixed seed \n",
    "# from a Gaussian with mu = 0, sigma = 1 \n",
    "stdn_samples = rg.standard_normal(N)\n",
    "\n",
    "# The estimate of the mean and the variance\n",
    "mu_estimate = np.sum(stdn_samples)/N\n",
    "var_estimate = np.sum((stdn_samples - mu_estimate)**2) / N\n",
    "\n",
    "print('The estimate of the mean from the samples is ' + str(mu_estimate))\n",
    "print('The estimate of the variance from the samples is ' + str(var_estimate)) "
   ]
  },
  {
   "cell_type": "markdown",
   "metadata": {},
   "source": [
    "Lets plot the samples with seaborn"
   ]
  },
  {
   "cell_type": "code",
   "execution_count": 71,
   "metadata": {},
   "outputs": [
    {
     "data": {
      "text/plain": [
       "<AxesSubplot:>"
      ]
     },
     "execution_count": 71,
     "metadata": {},
     "output_type": "execute_result"
    },
    {
     "data": {
      "image/png": "[encoded data removed]",
      "text/plain": [
       "<Figure size 720x432 with 1 Axes>"
      ]
     },
     "metadata": {
      "needs_background": "light"
     },
     "output_type": "display_data"
    }
   ],
   "source": [
    "import seaborn as sns\n",
    "\n",
    "sns.distplot(stdn_samples, bins=50)"
   ]
  },
  {
   "cell_type": "markdown",
   "metadata": {},
   "source": [
    "The normal distribution with mean $\\mu$ and variance $\\sigma^2$ is often written as $\\mathcal{N}(\\mu, \\sigma^2)$. A nice thing about Gaussians is that these can be scaled from the standard normal gaussian\n",
    "\n",
    "$$\\mathcal{N}(\\mu, \\sigma^2) = \\sigma \\mathcal{N}(0, 1) + \\mu$$"
   ]
  },
  {
   "cell_type": "code",
   "execution_count": 50,
   "metadata": {},
   "outputs": [
    {
     "name": "stdout",
     "output_type": "stream",
     "text": [
      "The estimate of the mean from the samples is -1.130284006215429\n",
      "The estimate of the variance from the samples is 9.131877895726982\n"
     ]
    }
   ],
   "source": [
    "# Lets do this with the standard gaussian samples we created earlier to \n",
    "# get samples from a distribution with mu = -1 and sigma = 3 \n",
    "\n",
    "mu, sigma = -1, 3\n",
    "\n",
    "new_gaussian_samples = sigma * stdn_samples + mu\n",
    "\n",
    "# Now estimate of the mean and the variance to see if it worked\n",
    "new_mu_estimate = np.sum(new_gaussian_samples)/N\n",
    "new_var_estimate = np.sum((new_gaussian_samples - new_mu_estimate)**2) / N\n",
    "\n",
    "print('The estimate of the mean from the samples is ' + str(new_mu_estimate))\n",
    "print('The estimate of the variance from the samples is ' + str(new_var_estimate)) "
   ]
  },
  {
   "cell_type": "markdown",
   "metadata": {},
   "source": [
    "### Multivariate Gaussian\n",
    "\n",
    "Next up is the multivariate version of the Gaussian distribution. If an N-dimensional vector of random variables $\\bar{X}$ is distributed as a multivariate Gaussian its probability distribution function is. \n",
    "\n",
    "$$ p(\\bar{X}) = \\frac{1}{(2 \\pi |C|)^{N/2}} \\, \\exp\\left[- \\frac{1}{2} (\\bar{X} - \\bar{\\mu})^T C^{-1} (\\bar{X} - \\bar{\\mu})  \\right] $$\n",
    "\n",
    "\n",
    "$\\mu$ is the vector of means. Its $i-th$ element is the mean of the corresponding element of the data vector $\\mu_i = E \\left(X_i \\right)$\n",
    "\n",
    "$C$ is the $N \\times N$ covariance matrix whose elements are given by $C_{ij} = E \\left[(X_i - \\mu_i)(X_j - \\mu_j) \\right]$. The non-diagonal elements of matrix describe how the fluctuations of one of the data series are connected that of the others. This is the crux, a multivariate Gaussian is not just a set of N univariate Gaussians but also describes how they are connected together. \n",
    "\n",
    "Notice that $C$ is a symmetric matric by definition $C_{ij} = C_{ji}$\n",
    "\n",
    "Looking at the two-dimensional case is the useful. Lets do that below. "
   ]
  },
  {
   "cell_type": "code",
   "execution_count": 133,
   "metadata": {},
   "outputs": [
    {
     "name": "stdout",
     "output_type": "stream",
     "text": [
      "The estimate of the two means from the samples is mu = [2.9639387631977914, -2.0379141225087087]\n",
      "The estimate of the variance of the samples is [C11, C22] = [0.7356317060710083, 1.044635011729454]\n",
      "The estimate of the covariance of the samples is C12 = 0.513911706392749\n"
     ]
    }
   ],
   "source": [
    "# lets define a mean and the covariance matrix for our 2D gaussian. \n",
    "mu = np.array([3.0, -2.0])\n",
    "\n",
    "C  = np.array([[0.75, 0.5], [0.5, 1]])\n",
    "\n",
    "# np has a multivariate_normal method to draw samples\n",
    "multi_samples = rg.multivariate_normal(mu, C, size=N)\n",
    "\n",
    "# Lets check if this worked by calculating the estimators\n",
    "# First the means\n",
    "mu1 = np.sum(multi_samples[:, 0])/N\n",
    "mu2 = np.sum(multi_samples[:, 1])/N\n",
    "\n",
    "# Now the elements of the covaraiance matrix\n",
    "C11 = np.sum((multi_samples[:, 0] - mu1) * (multi_samples[:, 0] - mu2))/N\n",
    "C22 = np.sum((multi_samples[:, 1] - mu1) * (multi_samples[:, 1] - mu2))/N\n",
    "C12 = np.sum((multi_samples[:, 0] - mu1) * (multi_samples[:, 1] - mu2))/N\n",
    "\n",
    "\n",
    "print('The estimate of the two means from the samples is mu = ' + str([mu1, mu2]) )\n",
    "print('The estimate of the variance of the samples is [C11, C22] = ' + str([C11, C22])) \n",
    "print('The estimate of the covariance of the samples is C12 = ' + str(C12)) "
   ]
  },
  {
   "cell_type": "code",
   "execution_count": 80,
   "metadata": {},
   "outputs": [
    {
     "data": {
      "text/plain": [
       "<seaborn.axisgrid.JointGrid at 0x134191860>"
      ]
     },
     "execution_count": 80,
     "metadata": {},
     "output_type": "execute_result"
    },
    {
     "data": {
      "image/png": "[encoded data removed]",
      "text/plain": [
       "<Figure size 504x504 with 3 Axes>"
      ]
     },
     "metadata": {
      "needs_background": "light"
     },
     "output_type": "display_data"
    }
   ],
   "source": [
    "# lets plot the multivariate data. First we will make a pandas dataframe\n",
    "import pandas as pd\n",
    "\n",
    "multi = { 'X1':[], 'X2':[] }\n",
    "\n",
    "multi['X1'], multi['X2'] = multi_samples[:, 0], multi_samples[:, 1]\n",
    "    \n",
    "multi_pd = pd.DataFrame(multi)\n",
    "\n",
    "\n",
    "\n",
    "# Lets plot this with seaborn's joinplot\n",
    "sns.jointplot('X1', 'X2', multi_pd, kind='hex', height=7)"
   ]
  },
  {
   "cell_type": "markdown",
   "metadata": {},
   "source": [
    "### Complex normal\n",
    "At this point we should note that all the discussion has been about Gaussian distributions of real variables. Often we want to study complex Gaussian variables. This is often the case when we want to analyze data in Fourier space or upon a Fourier transform. \n",
    "\n",
    "The variable $z = x + iy$ is defined as a complex normal variable if both the real and imaginary parts of it are distributed as independent (real) normal variables. Suppose \n",
    "\n",
    "$$\\mu = E(x) + i E(y)$$ and \n",
    "\n",
    "$$\\sigma^2 = E\\left((x - E(x))^2\\right) + E\\left((y - E(y))^2\\right) $$\n",
    "\n",
    "Then the univariate complex normal distribution is the product of the distributions of the real and complex parts\n",
    "\n",
    "$$P(z) = \\frac{1}{2 \\pi \\sigma^2} \\, \\exp \\left (-  \\frac{|z - \\mu|^2}{\\sigma^2} \\right)$$\n"
   ]
  },
  {
   "cell_type": "markdown",
   "metadata": {},
   "source": [
    "### $\\chi^2$ distribution\n",
    "\n",
    "Next up is the $\\chi^2$ distribution. Suppose we have $N$ standard normal variables $x_1, x_2, ..., x_N$, then the sum of squares \n",
    "\n",
    "$$X^2_N = \\sum_i^N x^2_i \\sim \\chi^2_N$$\n",
    "\n",
    "will follow a $\\chi^2$ distribution with N degrees of freedom. The mean of the $\\chi^2$ distribution is $N$ and the variance is $2N$"
   ]
  },
  {
   "cell_type": "code",
   "execution_count": 150,
   "metadata": {},
   "outputs": [
    {
     "name": "stdout",
     "output_type": "stream",
     "text": [
      "The estimate of the mean is 3.009382318909581\n",
      "The estimate of the variance is 6.0730124417660685\n"
     ]
    }
   ],
   "source": [
    "# Lets create three sets of standard Gaussian data. \n",
    "x1, x2, x3 = rg.standard_normal(N), rg.standard_normal(N), rg.standard_normal(N)\n",
    "\n",
    "# Now the data distributed as \n",
    "X2 = x1**2 + x2**2 + x3**2\n",
    "\n",
    "# Lets find the mean and std deviation.\n",
    "# we should 3 and 6 respectively. \n",
    "mu = np.sum(X2)/N\n",
    "var = np.sum((X2 - mu)**2)/N\n",
    "\n",
    "print('The estimate of the mean is ' + str(mu))\n",
    "print('The estimate of the variance is ' + str(var)) "
   ]
  },
  {
   "cell_type": "markdown",
   "metadata": {},
   "source": [
    "The $\\chi^2$ distribution also forms the basis of the $\\chi^2$ test which is a common goodness of fit test. We will get back to this as we step through the notebook"
   ]
  },
  {
   "cell_type": "markdown",
   "metadata": {},
   "source": [
    "### Poisson distribution\n",
    "\n",
    "Next up is the Poisson distribution. Its pretty important for us physicists and astronomers because it has to do with the statistics of counting. Poisson statistics can be used to model the statistics of decay of radioactive elements, or the number of supernova and blackhole mergers in the universe. Its not just fluctuations in time. For example if we divide the sky into pixels and count the number of galaxies in each pixel we should expect to find that they are distributed according to Poisson statistics too. \n",
    "\n",
    "Given $n$ events we can write the Poisson probability distribution as\n",
    "\n",
    "$$P(n) = \\frac{\\lambda^n e^{-\\lambda}}{n!}$$\n",
    "\n",
    "where $\\lambda$ is the average number of events. Notice that while $n$ has to be an integer $\\lambda$ just needs to be a non-negative real number. \n",
    "\n",
    "The mean of the Poisson is $E(n) = \\lambda$\n",
    "The variance is $\\lambda$ too $E\\left( (n - \\lambda)^2 \\right) = \\lambda$"
   ]
  },
  {
   "cell_type": "code",
   "execution_count": 89,
   "metadata": {},
   "outputs": [
    {
     "name": "stdout",
     "output_type": "stream",
     "text": [
      "The estimate of the mean from the Poisson samples is 3.029\n",
      "The estimate of the variance from the Poisson samples is 3.1251590000000005\n"
     ]
    }
   ],
   "source": [
    "N = 2000\n",
    "\n",
    "# Draw samples from a random number generator with a fixed seed \n",
    "# from a Gaussian with mu = 0, sigma = 1 \n",
    "poisson_samples = rg.poisson(lam=3, size=N)\n",
    "\n",
    "# The estimate of the mean and the variance\n",
    "mu_estimate = np.sum(poisson_samples)/N\n",
    "var_estimate = np.sum((poisson_samples - mu_estimate)**2) / N\n",
    "\n",
    "print('The estimate of the mean from the Poisson samples is ' + str(mu_estimate))\n",
    "print('The estimate of the variance from the Poisson samples is ' + str(var_estimate)) "
   ]
  },
  {
   "cell_type": "code",
   "execution_count": 93,
   "metadata": {},
   "outputs": [
    {
     "data": {
      "text/plain": [
       "<AxesSubplot:>"
      ]
     },
     "execution_count": 93,
     "metadata": {},
     "output_type": "execute_result"
    },
    {
     "data": {
      "image/png": "[encoded data removed]",
      "text/plain": [
       "<Figure size 720x432 with 1 Axes>"
      ]
     },
     "metadata": {
      "needs_background": "light"
     },
     "output_type": "display_data"
    }
   ],
   "source": [
    "# lets plot\n",
    "sns.distplot(poisson_samples, bins=np.arange(15))"
   ]
  },
  {
   "cell_type": "markdown",
   "metadata": {},
   "source": [
    "### Binomial distribution\n",
    "\n",
    "The binomial distribution follows from the binomial theorem and describes the probability distribution of binary events like coin tosses. For example what is the probability of getting 48 heads on tossing a coin 100 times? The answer is given by the binomial distribution \n",
    "\n",
    "$$P(k) = {N\\choose k} p^k (1-p)^k$$\n",
    "\n",
    "the probability of getting k heads with N tosses, with p is the probability of getting heads (0.5 for a fair coin)\n",
    "\n",
    "The mean or the expectation value of N tosses is given by $E(k) = Np$"
   ]
  },
  {
   "cell_type": "code",
   "execution_count": 113,
   "metadata": {},
   "outputs": [
    {
     "name": "stdout",
     "output_type": "stream",
     "text": [
      "The estimate of p is 0.698\n"
     ]
    }
   ],
   "source": [
    "N = 1000\n",
    "\n",
    "# Lets draw 1000 samples from the binomial distribution. Numpy again has a convenient inbuilt method. \n",
    "# Each sample is either 0 or 1. The probability of getting a success i.e drawing 1 in a toss is 0.7\n",
    "bin_samples = rg.binomial(1, 0.7, size=N)\n",
    "\n",
    "# We can estimate p by using the expectation value. \n",
    "\n",
    "p_estimate = bin_samples.sum()/N\n",
    "\n",
    "print('The estimate of p is ' + str(p_estimate))"
   ]
  },
  {
   "cell_type": "code",
   "execution_count": 118,
   "metadata": {},
   "outputs": [
    {
     "data": {
      "text/plain": [
       "<AxesSubplot:>"
      ]
     },
     "execution_count": 118,
     "metadata": {},
     "output_type": "execute_result"
    },
    {
     "data": {
      "image/png": "[encoded data removed]",
      "text/plain": [
       "<Figure size 720x432 with 1 Axes>"
      ]
     },
     "metadata": {
      "needs_background": "light"
     },
     "output_type": "display_data"
    }
   ],
   "source": [
    "# Now lets make 1000 seperate estimates of 200 draws. The binomial methods now gives us the sum 1000 draws each time. \n",
    "bin_samples2 = rg.binomial(200, 0.7, size=N)\n",
    "\n",
    "# lets make a histogram. It should peak around 0.7*200 = 140\n",
    "sns.distplot(bin_samples2, bins=50)"
   ]
  },
  {
   "cell_type": "markdown",
   "metadata": {},
   "source": [
    "### Central limit theorem\n",
    "\n",
    "The last topic in this notebook is the powerful central limit theorem. Let $x_i, i = (1, 2, ..., N)$ be random variables then in the limit $N \\to \\infty$ the sum $X = \\sum_i X_i$ is a **Gaussian** random variable with mean $\\mu = \\sum_i \\mu_i$ and variance $\\sigma^2 = \\sum_i \\sigma^2_i$. This works for almost any random variable and is of central important in many applications. For example in gravitational-wave data analysis the instrumental noise in the frequency domain is treated as a Gaussian random variable. This is justified by the fact that the instrumental noise is the sum of noises which originate from several independent sources which \"add in quadrature\" and generate Gaussian random noise by virtue of the central limit theorem.  \n",
    "\n",
    "Even though the theorem says it works in the limit $N \\to \\infty$ in practice it usually works pretty well for even small N if we just want to measure things like the mean. "
   ]
  },
  {
   "cell_type": "code",
   "execution_count": 247,
   "metadata": {},
   "outputs": [
    {
     "name": "stdout",
     "output_type": "stream",
     "text": [
      "The estimate of the mean from the samples is 7.94063118287095\n",
      "The estimate of the variance from the samples is 22.64732822170186\n"
     ]
    }
   ],
   "source": [
    "# For this notebook we will just test that the central limit theorem works.\n",
    "# Lets define and draw 1000 samples from 4 poisson distribution and 4 gaussian\n",
    "# distributions. \n",
    "\n",
    "N = 2000\n",
    "\n",
    "x1 = rg.poisson(lam=1, size=N)\n",
    "x2 = rg.poisson(lam=2, size=N)\n",
    "x3 = rg.poisson(lam=3, size=N)\n",
    "x4 = rg.poisson(lam=4, size=N)\n",
    "x5 = 2* rg.standard_normal(N) + 1\n",
    "x6 = 1 * rg.standard_normal(N) - 2\n",
    "x7 = 2* rg.standard_normal(N) - 1\n",
    "x8 = 1.5* rg.standard_normal(N) \n",
    "\n",
    "\n",
    "# Lets now define the sum\n",
    "X = x1 + x2 + x3 + x4 + x5 + x6 + x7 + x8\n",
    "\n",
    "# According to the central limit theorem the sum should have a mean \n",
    "# of 1+2+3+4+1-2-1 = 8 and variance  = 21.5. Letc check if that is the case\n",
    "\n",
    "# The estimate of the mean and the variance\n",
    "mu_estimate = np.sum(X)/N\n",
    "var_estimate = np.sum((X - mu_estimate)**2) / N\n",
    "\n",
    "print('The estimate of the mean from the samples is ' + str(mu_estimate))\n",
    "print('The estimate of the variance from the samples is ' + str(var_estimate)) "
   ]
  },
  {
   "cell_type": "markdown",
   "metadata": {},
   "source": [
    "The mean and the variance do indeed seem to checkout. But note again that we have added only a small number of distributions. If you plot histograms you will see a difference between the Gaussian and and the data. "
   ]
  },
  {
   "cell_type": "code",
   "execution_count": null,
   "metadata": {},
   "outputs": [],
   "source": []
  }
 ],
 "metadata": {
  "kernelspec": {
   "display_name": "Python 3",
   "language": "python",
   "name": "python3"
  },
  "language_info": {
   "codemirror_mode": {
    "name": "ipython",
    "version": 3
   },
   "file_extension": ".py",
   "mimetype": "text/x-python",
   "name": "python",
   "nbconvert_exporter": "python",
   "pygments_lexer": "ipython3",
   "version": "3.7.9"
  }
 },
 "nbformat": 4,
 "nbformat_minor": 4
}
